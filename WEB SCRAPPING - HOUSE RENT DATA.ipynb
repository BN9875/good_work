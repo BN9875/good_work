{
 "cells": [
  {
   "cell_type": "markdown",
   "metadata": {},
   "source": [
    "# HOUSE RENT DATA FROM MAGICBRICKS.COM"
   ]
  },
  {
   "cell_type": "markdown",
   "metadata": {},
   "source": [
    "This data can be used for \n",
    "- Finding cheap housing\n",
    "- Predicting rent price for a property depending on the features"
   ]
  },
  {
   "cell_type": "markdown",
   "metadata": {},
   "source": [
    " "
   ]
  },
  {
   "cell_type": "markdown",
   "metadata": {},
   "source": [
    "This data was collected by web scrapping using BeautifulSoup library"
   ]
  },
  {
   "cell_type": "markdown",
   "metadata": {},
   "source": [
    "### This is a dynamic project "
   ]
  },
  {
   "cell_type": "markdown",
   "metadata": {},
   "source": [
    "- First the program will ask user to enter a city where they want to search the rent houses.\n",
    "- Then it will call the html file of that particular city from magicbricks.com.\n",
    "- Next, it will search for total number of pages that contain the desired data and store it in a variable.\n",
    "- Then it will create empty lists to save the data.\n",
    "- Then comes the for loop will start for as many pages as the number saved two steps back.\n",
    "- Inside this loop will be another loop which will run as many times as it needs to get all the data from that page.\n",
    "- Once the data has been stored in the lists, next step is checking their length before creating a data frame.\n",
    "- The final step is saving this data frame as a csv file wose name will also be dynamic, and change with the city user entered.\n",
    "\n",
    "After this, the csv file is ready for further processing."
   ]
  },
  {
   "cell_type": "markdown",
   "metadata": {},
   "source": [
    " "
   ]
  },
  {
   "cell_type": "markdown",
   "metadata": {},
   "source": [
    " "
   ]
  },
  {
   "cell_type": "markdown",
   "metadata": {},
   "source": [
    " "
   ]
  },
  {
   "cell_type": "markdown",
   "metadata": {},
   "source": [
    "## Let's begin!!! "
   ]
  },
  {
   "cell_type": "markdown",
   "metadata": {},
   "source": [
    " "
   ]
  },
  {
   "cell_type": "code",
   "execution_count": 1,
   "metadata": {},
   "outputs": [],
   "source": [
    "# Importing libraries\n",
    "\n",
    "from bs4 import BeautifulSoup\n",
    "import requests"
   ]
  },
  {
   "cell_type": "markdown",
   "metadata": {},
   "source": [
    "\n",
    "\n",
    "\n",
    "Information collected\n",
    "1. Description\n",
    "2. Rent\n",
    "3. Availability\n",
    "4. Tenants prefered\n",
    "5. Furnishing"
   ]
  },
  {
   "cell_type": "code",
   "execution_count": 13,
   "metadata": {},
   "outputs": [
    {
     "name": "stdout",
     "output_type": "stream",
     "text": [
      "Which city do you want to search for?pune\n"
     ]
    }
   ],
   "source": [
    "# Asking user to input city name\n",
    "\n",
    "city = input(\"Which city do you want to search for?\")"
   ]
  },
  {
   "cell_type": "code",
   "execution_count": 14,
   "metadata": {},
   "outputs": [
    {
     "name": "stdout",
     "output_type": "stream",
     "text": [
      "<Response [200]>\n"
     ]
    }
   ],
   "source": [
    "# Requesting url data\n",
    "\n",
    "url = f'https://www.magicbricks.com/independent-house-for-rent-in-{city}-pppfr'\n",
    "page = requests.get(url)\n",
    "print(page)"
   ]
  },
  {
   "cell_type": "code",
   "execution_count": 15,
   "metadata": {},
   "outputs": [],
   "source": [
    "# Getting html content from the page\n",
    "\n",
    "soup = BeautifulSoup(page.text, 'html.parser')"
   ]
  },
  {
   "cell_type": "code",
   "execution_count": 16,
   "metadata": {},
   "outputs": [
    {
     "name": "stdout",
     "output_type": "stream",
     "text": [
      "50\n"
     ]
    }
   ],
   "source": [
    "# Finding the number of pages which contain the entire data\n",
    "\n",
    "page_num = int(soup.body.div.div.div.find('div', id='body').find('div', class_='container-fluid').div.div.div.find('div', class_='mb-pagination').find('ul').find_all('li')[-2].text)\n",
    "print(page_num)"
   ]
  },
  {
   "cell_type": "code",
   "execution_count": 17,
   "metadata": {},
   "outputs": [],
   "source": [
    "# Creating empty lists to save the values\n",
    "\n",
    "descr = []\n",
    "availability = []\n",
    "furnishing = []\n",
    "tenant_pref = []\n",
    "rent = []"
   ]
  },
  {
   "cell_type": "code",
   "execution_count": 18,
   "metadata": {},
   "outputs": [],
   "source": [
    "# Starting a loop to get all the information\n",
    "\n",
    "\n",
    "for num in range(1, page_num+1):\n",
    "    link = f'https://www.magicbricks.com/independent-house-for-rent-in-{city}-pppfr/page-{num}'\n",
    "    pg = requests.get(link)\n",
    "    sp = BeautifulSoup(pg.text, 'html.parser')\n",
    "    entry = sp.body.div.div.div.find('div', id='body').find('div', class_='container-fluid').div.div.div.find_all('div', class_='mb-srp__list')\n",
    "    \n",
    "    for item in entry:\n",
    "        try:\n",
    "            av = item.find('div', class_='mb-srp__card').find('div', class_='mb-srp__card__container').find('div', class_='mb-srp__card__info').find('div', class_='mb-srp__card__summary').find('div', class_='mb-srp__card__summary__list').find_all('div', class_='mb-srp__card__summary__list--item')[2].find('div', class_='mb-srp__card__summary--value').text\n",
    "            availability.append(av)\n",
    "        except:\n",
    "            availability.append(\" \")\n",
    "            \n",
    "        try:\n",
    "            dsc = item.find('div', class_='mb-srp__card').find('div', class_='mb-srp__card__container').find('div', class_='mb-srp__card__info').h2.text\n",
    "            descr.append(dsc)\n",
    "        except:\n",
    "            descr.append(\" \")\n",
    "        \n",
    "        try:\n",
    "            fur = item.find('div', class_='mb-srp__card').find('div', class_='mb-srp__card__container').find('div', class_='mb-srp__card__info').find('div', class_='mb-srp__card__summary').find('div', class_='mb-srp__card__summary__list').find_all('div', class_='mb-srp__card__summary__list--item')[0].find('div', class_='mb-srp__card__summary--value').text\n",
    "            furnishing.append(fur)\n",
    "        except:\n",
    "            furnishing.append(\" \")\n",
    "            \n",
    "        try:\n",
    "            tenn = item.find('div', class_='mb-srp__card').find('div', class_='mb-srp__card__container').find('div', class_='mb-srp__card__info').find('div', class_='mb-srp__card__summary').find('div', class_='mb-srp__card__summary__list').find_all('div', class_='mb-srp__card__summary__list--item')[1].find('div', class_='mb-srp__card__summary--value').text\n",
    "            tenant_pref.append(tenn)\n",
    "        except:\n",
    "            tenant_pref.append(\" \")\n",
    "            \n",
    "        try:\n",
    "            rn = item.find('div', class_='mb-srp__card').find('div', class_='mb-srp__card__estimate').find('div', class_='mb-srp__card__price').find('div',class_='mb-srp__card__price--amount').text\n",
    "            rent.append(rn)\n",
    "        except:\n",
    "            rent.append(\" \")\n",
    "    "
   ]
  },
  {
   "cell_type": "code",
   "execution_count": 19,
   "metadata": {},
   "outputs": [
    {
     "name": "stdout",
     "output_type": "stream",
     "text": [
      "1500\n",
      "1500\n",
      "1500\n",
      "1500\n",
      "1500\n"
     ]
    }
   ],
   "source": [
    "# Checking the length of our lists\n",
    "\n",
    "print(len(availability))\n",
    "print(len(furnishing))\n",
    "print(len(rent))\n",
    "print(len(tenant_pref))\n",
    "print(len(descr))"
   ]
  },
  {
   "cell_type": "code",
   "execution_count": 20,
   "metadata": {},
   "outputs": [],
   "source": [
    "# Creating a data frame out of the lists of data we collected\n",
    "\n",
    "\n",
    "import pandas as pd\n",
    "rent_data = pd.DataFrame(list(zip(descr,availability,furnishing,tenant_pref,rent)), columns=['Housing Description', 'Availability', 'Furnishing', 'Tenant Preference', 'Rent'])"
   ]
  },
  {
   "cell_type": "code",
   "execution_count": 21,
   "metadata": {},
   "outputs": [
    {
     "data": {
      "text/html": [
       "<div>\n",
       "<style scoped>\n",
       "    .dataframe tbody tr th:only-of-type {\n",
       "        vertical-align: middle;\n",
       "    }\n",
       "\n",
       "    .dataframe tbody tr th {\n",
       "        vertical-align: top;\n",
       "    }\n",
       "\n",
       "    .dataframe thead th {\n",
       "        text-align: right;\n",
       "    }\n",
       "</style>\n",
       "<table border=\"1\" class=\"dataframe\">\n",
       "  <thead>\n",
       "    <tr style=\"text-align: right;\">\n",
       "      <th></th>\n",
       "      <th>Housing Description</th>\n",
       "      <th>Availability</th>\n",
       "      <th>Furnishing</th>\n",
       "      <th>Tenant Preference</th>\n",
       "      <th>Rent</th>\n",
       "    </tr>\n",
       "  </thead>\n",
       "  <tbody>\n",
       "    <tr>\n",
       "      <th>0</th>\n",
       "      <td>1 BHK House for Rent in Dhanori</td>\n",
       "      <td>Immediately</td>\n",
       "      <td>Unfurnished</td>\n",
       "      <td>Bachelors</td>\n",
       "      <td>₹10,000</td>\n",
       "    </tr>\n",
       "    <tr>\n",
       "      <th>1</th>\n",
       "      <td>4 BHK House for Rent in Veerbhadra Nagar, Baner</td>\n",
       "      <td>Immediately</td>\n",
       "      <td>Unfurnished</td>\n",
       "      <td>Bachelors</td>\n",
       "      <td>₹50,000</td>\n",
       "    </tr>\n",
       "    <tr>\n",
       "      <th>2</th>\n",
       "      <td>1 BHK House for Rent in Laxman Nagar-Thergaon,...</td>\n",
       "      <td>Immediately</td>\n",
       "      <td>Unfurnished</td>\n",
       "      <td>Bachelors</td>\n",
       "      <td>₹7,500</td>\n",
       "    </tr>\n",
       "    <tr>\n",
       "      <th>3</th>\n",
       "      <td>1 BHK House for Rent in Yewalewadi, Katraj</td>\n",
       "      <td>Immediately</td>\n",
       "      <td>Semi-Furnished</td>\n",
       "      <td>Bachelors/Family</td>\n",
       "      <td>₹5,000</td>\n",
       "    </tr>\n",
       "    <tr>\n",
       "      <th>4</th>\n",
       "      <td>3 BHK House for Rent in Ideal Colony, Kothrud</td>\n",
       "      <td>1 Covered</td>\n",
       "      <td>Unfurnished</td>\n",
       "      <td>Bachelors</td>\n",
       "      <td>₹32,000</td>\n",
       "    </tr>\n",
       "    <tr>\n",
       "      <th>...</th>\n",
       "      <td>...</td>\n",
       "      <td>...</td>\n",
       "      <td>...</td>\n",
       "      <td>...</td>\n",
       "      <td>...</td>\n",
       "    </tr>\n",
       "    <tr>\n",
       "      <th>1495</th>\n",
       "      <td>1 BHK House for Rent in Dhanori</td>\n",
       "      <td>Immediately</td>\n",
       "      <td>Semi-Furnished</td>\n",
       "      <td>Bachelors/Family</td>\n",
       "      <td>₹6,000</td>\n",
       "    </tr>\n",
       "    <tr>\n",
       "      <th>1496</th>\n",
       "      <td>3 BHK House for Rent in Viman Nagar</td>\n",
       "      <td>Immediately</td>\n",
       "      <td>Unfurnished</td>\n",
       "      <td>Bachelors/Family</td>\n",
       "      <td>₹1 Lac</td>\n",
       "    </tr>\n",
       "    <tr>\n",
       "      <th>1497</th>\n",
       "      <td>2 BHK House for Rent in Lohegaon</td>\n",
       "      <td>Immediately</td>\n",
       "      <td>Unfurnished</td>\n",
       "      <td>Family</td>\n",
       "      <td>₹7,500</td>\n",
       "    </tr>\n",
       "    <tr>\n",
       "      <th>1498</th>\n",
       "      <td>1 BHK House for Rent in Thite Nagar kharadi</td>\n",
       "      <td>Immediately</td>\n",
       "      <td>Unfurnished</td>\n",
       "      <td>Bachelors/Family</td>\n",
       "      <td>₹6,000</td>\n",
       "    </tr>\n",
       "    <tr>\n",
       "      <th>1499</th>\n",
       "      <td>3 BHK House for Rent in Panchawati, Pashan</td>\n",
       "      <td>Immediately</td>\n",
       "      <td>Semi-Furnished</td>\n",
       "      <td>Bachelors/Family</td>\n",
       "      <td>₹35,000</td>\n",
       "    </tr>\n",
       "  </tbody>\n",
       "</table>\n",
       "<p>1500 rows × 5 columns</p>\n",
       "</div>"
      ],
      "text/plain": [
       "                                    Housing Description Availability  \\\n",
       "0                       1 BHK House for Rent in Dhanori  Immediately   \n",
       "1       4 BHK House for Rent in Veerbhadra Nagar, Baner  Immediately   \n",
       "2     1 BHK House for Rent in Laxman Nagar-Thergaon,...  Immediately   \n",
       "3            1 BHK House for Rent in Yewalewadi, Katraj  Immediately   \n",
       "4         3 BHK House for Rent in Ideal Colony, Kothrud    1 Covered   \n",
       "...                                                 ...          ...   \n",
       "1495                    1 BHK House for Rent in Dhanori  Immediately   \n",
       "1496                3 BHK House for Rent in Viman Nagar  Immediately   \n",
       "1497                   2 BHK House for Rent in Lohegaon  Immediately   \n",
       "1498        1 BHK House for Rent in Thite Nagar kharadi  Immediately   \n",
       "1499         3 BHK House for Rent in Panchawati, Pashan  Immediately   \n",
       "\n",
       "          Furnishing Tenant Preference     Rent  \n",
       "0        Unfurnished         Bachelors  ₹10,000  \n",
       "1        Unfurnished         Bachelors  ₹50,000  \n",
       "2        Unfurnished         Bachelors   ₹7,500  \n",
       "3     Semi-Furnished  Bachelors/Family   ₹5,000  \n",
       "4        Unfurnished         Bachelors  ₹32,000  \n",
       "...              ...               ...      ...  \n",
       "1495  Semi-Furnished  Bachelors/Family   ₹6,000  \n",
       "1496     Unfurnished  Bachelors/Family   ₹1 Lac  \n",
       "1497     Unfurnished            Family   ₹7,500  \n",
       "1498     Unfurnished  Bachelors/Family   ₹6,000  \n",
       "1499  Semi-Furnished  Bachelors/Family  ₹35,000  \n",
       "\n",
       "[1500 rows x 5 columns]"
      ]
     },
     "execution_count": 21,
     "metadata": {},
     "output_type": "execute_result"
    }
   ],
   "source": [
    "rent_data"
   ]
  },
  {
   "cell_type": "code",
   "execution_count": 22,
   "metadata": {},
   "outputs": [
    {
     "data": {
      "text/plain": [
       "1500"
      ]
     },
     "execution_count": 22,
     "metadata": {},
     "output_type": "execute_result"
    }
   ],
   "source": [
    "rent_data.shape[0]"
   ]
  },
  {
   "cell_type": "code",
   "execution_count": 23,
   "metadata": {},
   "outputs": [],
   "source": [
    "# Saving the data frame as a .csv file\n",
    "\n",
    "rent_data.to_csv(f'{city}_Rent_Data.csv')"
   ]
  },
  {
   "cell_type": "markdown",
   "metadata": {},
   "source": [
    " "
   ]
  },
  {
   "cell_type": "markdown",
   "metadata": {},
   "source": [
    "## Well done!!"
   ]
  }
 ],
 "metadata": {
  "kernelspec": {
   "display_name": "Python 3",
   "language": "python",
   "name": "python3"
  },
  "language_info": {
   "codemirror_mode": {
    "name": "ipython",
    "version": 3
   },
   "file_extension": ".py",
   "mimetype": "text/x-python",
   "name": "python",
   "nbconvert_exporter": "python",
   "pygments_lexer": "ipython3",
   "version": "3.8.5"
  }
 },
 "nbformat": 4,
 "nbformat_minor": 4
}
