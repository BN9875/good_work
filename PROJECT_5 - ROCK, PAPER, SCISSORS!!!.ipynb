{
 "cells": [
  {
   "cell_type": "markdown",
   "metadata": {},
   "source": [
    "### PROJECT-5 VIP@AINE AI"
   ]
  },
  {
   "cell_type": "markdown",
   "metadata": {},
   "source": [
    "### Submitted By - Bhumika Nim"
   ]
  },
  {
   "cell_type": "markdown",
   "metadata": {},
   "source": [
    " "
   ]
  },
  {
   "cell_type": "markdown",
   "metadata": {},
   "source": [
    "# LET'S PLAY ROCK, PAPER, SCISSORS !!!"
   ]
  },
  {
   "cell_type": "markdown",
   "metadata": {},
   "source": [
    " "
   ]
  },
  {
   "cell_type": "code",
   "execution_count": 1,
   "metadata": {},
   "outputs": [],
   "source": [
    "#Import relevant libraries\n",
    "import numpy as np\n",
    "import time\n",
    "import random"
   ]
  },
  {
   "cell_type": "markdown",
   "metadata": {},
   "source": [
    " "
   ]
  },
  {
   "cell_type": "markdown",
   "metadata": {},
   "source": [
    "### Setting up variables"
   ]
  },
  {
   "cell_type": "code",
   "execution_count": 2,
   "metadata": {},
   "outputs": [],
   "source": [
    "# Making a list of game moves\n",
    "rps_moves = ['Rock','Paper','Scissors']"
   ]
  },
  {
   "cell_type": "code",
   "execution_count": 3,
   "metadata": {},
   "outputs": [],
   "source": [
    "# Setting up a winner matrix\n",
    "# matrix cell values represnt the winning move by their numeric codes\n",
    "# Indices for rows and columns also represent moves by numeric codes\n",
    "# -1 represents a tie\n",
    "\"\"\"  \n",
    "R = 0  P = 1  S = 2\n",
    "\n",
    "     0     1      2\n",
    "\n",
    "0   -1     1      0\n",
    "  \n",
    "1    1    -1      2\n",
    "  \n",
    "2    0     2     -1\n",
    "\"\"\"\n",
    "\n",
    "win_mat = [[-1,1,0],[1,-1,2],[0,2,-1]]"
   ]
  },
  {
   "cell_type": "markdown",
   "metadata": {},
   "source": [
    " "
   ]
  },
  {
   "cell_type": "markdown",
   "metadata": {},
   "source": [
    "### Start Playing"
   ]
  },
  {
   "cell_type": "code",
   "execution_count": 4,
   "metadata": {},
   "outputs": [
    {
     "name": "stdout",
     "output_type": "stream",
     "text": [
      "LET'S PLAY ROCK, PAPER, SCISSORS!!!\n",
      "Enter your name :Bhumika\n"
     ]
    }
   ],
   "source": [
    "# Greet user\n",
    "\n",
    "\n",
    "print(\"LET'S PLAY ROCK, PAPER, SCISSORS!!!\")\n",
    "user_name = input('Enter your name :')"
   ]
  },
  {
   "cell_type": "code",
   "execution_count": 5,
   "metadata": {},
   "outputs": [
    {
     "name": "stdout",
     "output_type": "stream",
     "text": [
      "Hello Bhumika\n",
      "Are you ready to play ?\n",
      "Y/N ? :Y\n",
      "Let's go\n"
     ]
    }
   ],
   "source": [
    "# Ask if the user wants to play\n",
    "\n",
    "\n",
    "print('Hello '+user_name)\n",
    "print('Are you ready to play ?')\n",
    "response = input('Y/N ? :')\n",
    "if response.upper() == 'Y':\n",
    "    player = True\n",
    "    print(\"Let's go\")\n",
    "elif response.upper() == 'N':\n",
    "    player = False\n",
    "    print('Have a nice day')\n",
    "else:\n",
    "    print('Wrong input. Try Again')"
   ]
  },
  {
   "cell_type": "code",
   "execution_count": 6,
   "metadata": {},
   "outputs": [
    {
     "name": "stdout",
     "output_type": "stream",
     "text": [
      "How many rounds would you prefer to play?\n",
      "Enter value :3\n"
     ]
    }
   ],
   "source": [
    "# Ask how many rounds the user would like to play\n",
    "\n",
    "\n",
    "print(\"How many rounds would you prefer to play?\")\n",
    "counter = int(input('Enter value :'))\n"
   ]
  },
  {
   "cell_type": "code",
   "execution_count": 7,
   "metadata": {},
   "outputs": [
    {
     "name": "stdout",
     "output_type": "stream",
     "text": [
      "Choose your move \n",
      "['Rock', 'Paper', 'Scissors']\n",
      "Choose [Q] to quit\n",
      "Enter your move :paper\n",
      "\n",
      "BHUMIKA chose PAPER\n",
      "Computer chose ROCK\n",
      "BHUMIKA wins! Congratulations\n",
      "\n",
      "------------------------------\n",
      "Choose your move \n",
      "['Rock', 'Paper', 'Scissors']\n",
      "Choose [Q] to quit\n",
      "Enter your move :scissors\n",
      "\n",
      "BHUMIKA chose SCISSORS\n",
      "Computer chose SCISSORS\n",
      "Tie game.\n",
      "\n",
      "------------------------------\n",
      "Choose your move \n",
      "['Rock', 'Paper', 'Scissors']\n",
      "Choose [Q] to quit\n",
      "Enter your move :q\n",
      "Have a nice day\n"
     ]
    }
   ],
   "source": [
    "# Game Loop\n",
    "\n",
    "n = 0\n",
    "while n < counter:\n",
    "    \n",
    "    # Provide user with choices\n",
    "    \n",
    "    print(\"Choose your move \")\n",
    "    print(rps_moves)\n",
    "    print(\"Choose [Q] to quit\")\n",
    "    \n",
    "    # Ask for their choice\n",
    "    \n",
    "    input_move = input('Enter your move :').lower()\n",
    "    if input_move == 'rock':\n",
    "        user_choice = 0\n",
    "    elif input_move == 'paper':\n",
    "        user_choice = 1 \n",
    "    elif input_move == 'scissors':\n",
    "        user_choice = 2\n",
    "    elif input_move == 'q':\n",
    "        print('Have a nice day')    \n",
    "        break                       # Break out of the loop if they want to quit\n",
    "    else:\n",
    "        print('Invalid choice')\n",
    "        continue                    # If they make an invalid choice restart the loop\n",
    "    \n",
    "    \n",
    "    print()\n",
    "    \n",
    "    # Allow computer to choose\n",
    "    comp_move = random.randint(0,2)\n",
    "    \n",
    "    time.sleep(1)                   # Some time delay for effect\n",
    "    print(user_name.upper()+' chose '+input_move.upper())\n",
    "    time.sleep(1)\n",
    "    print('Computer chose '+rps_moves[comp_move].upper())\n",
    "    \n",
    "    # Deciding winner\n",
    "    winner = win_mat[comp_move][user_choice]\n",
    "    \n",
    "    time.sleep(0.5)\n",
    "    # Printing winner\n",
    "    if winner == user_choice:\n",
    "        print(user_name.upper() +\" wins! Congratulations\")\n",
    "    elif winner == comp_move:\n",
    "        print(\"COMPUTER wins. Better luck next time.\")\n",
    "    else:\n",
    "        print (\"Tie game.\")\n",
    "    print()\n",
    "    print('------------------------------')\n",
    "    time.sleep(3)\n",
    "    \n",
    "    n = n+1\n",
    "    "
   ]
  },
  {
   "cell_type": "code",
   "execution_count": null,
   "metadata": {},
   "outputs": [],
   "source": []
  }
 ],
 "metadata": {
  "kernelspec": {
   "display_name": "Python 3",
   "language": "python",
   "name": "python3"
  },
  "language_info": {
   "codemirror_mode": {
    "name": "ipython",
    "version": 3
   },
   "file_extension": ".py",
   "mimetype": "text/x-python",
   "name": "python",
   "nbconvert_exporter": "python",
   "pygments_lexer": "ipython3",
   "version": "3.8.5"
  }
 },
 "nbformat": 4,
 "nbformat_minor": 4
}
